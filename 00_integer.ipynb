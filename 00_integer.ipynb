{
 "cells": [
  {
   "cell_type": "code",
   "execution_count": null,
   "metadata": {},
   "outputs": [],
   "source": [
    "# default_exp integer\n",
    "#hide\n",
    "from nbdev.showdoc import *\n",
    "from fastcore.test import *"
   ]
  },
  {
   "cell_type": "markdown",
   "metadata": {},
   "source": [
    "# Integer Sequences\n",
    "\n",
    "![Counting Frame](img/abacus.jpeg)\n",
    "\n",
    "## Agenda\n",
    "\n",
    "* We use [list comprehensions](https://en.wikipedia.org/wiki/List_comprehension) to create sequences in _Python_.\n",
    "* An online-datbase can be used to search for integer sequences.\n",
    "* We can use the `matplotlib` library to visualize sequences.\n",
    "\n",
    "## Natural Numbers\n",
    "\n",
    "### Recursive Definition\n",
    "\n",
    "$$\n",
    "\\begin{align*}\n",
    "0&=\\{\\} \\\\\n",
    "n+1&=n \\cup \\{ n \\} \\\\\n",
    "\\end{align*}\n",
    "$$\n",
    "\n",
    "### Examples\n",
    "\n",
    "$$\n",
    "\\begin{align*}\n",
    "0&=\\{\\}&&{}=\\emptyset ,\\\\\n",
    "1&=\\{0\\}&&{}=\\{\\emptyset \\},\\\\\n",
    "2&=\\{0,1\\}&&{}=\\{\\emptyset ,\\{\\emptyset \\}\\},\\\\\n",
    "3&=\\{0,1,2\\}&&{}=\\{\\emptyset ,\\{\\emptyset \\},\\{\\emptyset ,\\{\\emptyset \\}\\}\\}. \\\\\n",
    "\\end{align*}\n",
    "$$\n",
    "\n",
    "## What is an Integer Sequence?\n",
    "\n",
    "### Examples\n",
    "#### (a)\n",
    "The sequence of the square numbers from $ 0 $ to $ 19 $:"
   ]
  },
  {
   "cell_type": "code",
   "execution_count": null,
   "metadata": {},
   "outputs": [
    {
     "data": {
      "text/plain": [
       "[0,\n",
       " 1,\n",
       " 4,\n",
       " 9,\n",
       " 16,\n",
       " 25,\n",
       " 36,\n",
       " 49,\n",
       " 64,\n",
       " 81,\n",
       " 100,\n",
       " 121,\n",
       " 144,\n",
       " 169,\n",
       " 196,\n",
       " 225,\n",
       " 256,\n",
       " 289,\n",
       " 324,\n",
       " 361]"
      ]
     },
     "execution_count": null,
     "metadata": {},
     "output_type": "execute_result"
    }
   ],
   "source": [
    "[ n ** 2 for n in range(20) ]"
   ]
  },
  {
   "cell_type": "markdown",
   "metadata": {},
   "source": [
    "We can plot this sequence with:"
   ]
  },
  {
   "cell_type": "code",
   "execution_count": null,
   "metadata": {},
   "outputs": [
    {
     "data": {
      "image/png": "[encoded data removed]",
      "text/plain": [
       "<Figure size 432x288 with 1 Axes>"
      ]
     },
     "metadata": {
      "needs_background": "light"
     },
     "output_type": "display_data"
    }
   ],
   "source": [
    "import matplotlib.pyplot as plt\n",
    "domain = range(20)\n",
    "plt.plot(domain, [n**2 for n in domain], 'ro')\n",
    "plt.show()"
   ]
  },
  {
   "cell_type": "markdown",
   "metadata": {},
   "source": [
    "#### (b)\n",
    "The odd integers:"
   ]
  },
  {
   "cell_type": "code",
   "execution_count": null,
   "metadata": {},
   "outputs": [
    {
     "data": {
      "text/plain": [
       "[1, 3, 5, 7, 9, 11, 13, 15, 17, 19, 21, 23, 25, 27, 29, 31, 33, 35, 37, 39]"
      ]
     },
     "execution_count": null,
     "metadata": {},
     "output_type": "execute_result"
    }
   ],
   "source": [
    "[ 2*n + 1 for n in range(20) ]"
   ]
  },
  {
   "cell_type": "markdown",
   "metadata": {},
   "source": [
    "Or then:"
   ]
  },
  {
   "cell_type": "code",
   "execution_count": null,
   "metadata": {},
   "outputs": [
    {
     "data": {
      "text/plain": [
       "[1, 3, 5, 7, 9, 11, 13, 15, 17, 19, 21, 23, 25, 27, 29, 31, 33, 35, 37, 39]"
      ]
     },
     "execution_count": null,
     "metadata": {},
     "output_type": "execute_result"
    }
   ],
   "source": [
    "[ n for n in range(1, 40, 2) ]"
   ]
  },
  {
   "cell_type": "markdown",
   "metadata": {},
   "source": [
    "### Exercises\n",
    "#### (a)\n",
    "The triangular numbers: 0, 1, 3, 6, 10, 15, …\n",
    "Can you find a formula for the first 20 elements of this sequence?"
   ]
  },
  {
   "cell_type": "code",
   "execution_count": null,
   "metadata": {},
   "outputs": [],
   "source": []
  },
  {
   "cell_type": "markdown",
   "metadata": {},
   "source": [
    "#### (b)\n",
    "The centerend hexagon numbers: 1, 7, 19, 37, 61, 91, …\n",
    "Can you find a formula for the first 20 elements of this sequence?"
   ]
  },
  {
   "cell_type": "code",
   "execution_count": null,
   "metadata": {},
   "outputs": [],
   "source": []
  },
  {
   "cell_type": "markdown",
   "metadata": {},
   "source": [
    "#### (c)\n",
    "What is the relation between these two formulas?\n",
    "Maybe this picture can help?\n",
    "\n",
    "![Centered Hexagon](img/centered-hexagonal.png)"
   ]
  },
  {
   "cell_type": "code",
   "execution_count": null,
   "metadata": {},
   "outputs": [],
   "source": []
  },
  {
   "cell_type": "markdown",
   "metadata": {},
   "source": [
    "#### (d)\n",
    "Compare the differences of the square numbers with the difference of the triangular numbers. What we mean with this is compare:\n",
    "$$\n",
    "\\{ 1-0, 4-1, 9-4, 16-9, … \\}\n",
    "$$\n",
    "to\n",
    "$$\n",
    "\\{ 1-0, 3-1, 6-3, 10-6, …\\}\n",
    "$$\n",
    "How can you get from one to the other?"
   ]
  },
  {
   "cell_type": "code",
   "execution_count": null,
   "metadata": {},
   "outputs": [],
   "source": []
  },
  {
   "cell_type": "markdown",
   "metadata": {},
   "source": [
    "#### (e)\n",
    "Compare the sequence of square numbers with the sequence of the triangular numbers. How can you get from on to the other?"
   ]
  },
  {
   "cell_type": "code",
   "execution_count": null,
   "metadata": {},
   "outputs": [],
   "source": []
  },
  {
   "cell_type": "markdown",
   "metadata": {},
   "source": [
    "## Definition of an Integer Sequence\n",
    "An _integer sequence_ is a mapping that assigns each natural number $ n \\in \\mathbb{N} $ an integer value $ f(n) \\in \\mathbb{Z} $.\n",
    "In other words it is a function:\n",
    " \n",
    "$$\n",
    "\\begin{matrix}\n",
    "f: \\mathbb{N} \\rightarrow \\mathbb{Z} \\\\\n",
    "n \\mapsto f(n)\n",
    "\\end{matrix}\n",
    "$$\n",
    " \n",
    "### Remark\n",
    "In computer science we usually start the index range with $ 0 $.\n",
    "\n",
    "### Java\n",
    "In _Java_ we can either use an array of `int`:\n",
    "```java\n",
    "int[] f;\n",
    "```\n",
    "\n",
    "Or then a `List` of `Integer`:\n",
    "```java\n",
    "List<Integer> f;\n",
    "```\n",
    "\n",
    "### Python\n",
    "In _Python_ we can use an ad-hoc list, a list comprehension or the `list` class:"
   ]
  },
  {
   "cell_type": "code",
   "execution_count": null,
   "metadata": {},
   "outputs": [
    {
     "data": {
      "text/plain": [
       "([2, 3, 5, 7, 11, 13],\n",
       " [0, 1, 8, 27, 64, 125, 216, 343, 512, 729],\n",
       " [0, 1, 2, 3, 4, 5, 6, 7, 8, 9])"
      ]
     },
     "execution_count": null,
     "metadata": {},
     "output_type": "execute_result"
    }
   ],
   "source": [
    "a = [2, 3, 5, 7, 11, 13]\n",
    "b = [n ** 3 for n in range(10)]\n",
    "c = list(range(10))\n",
    "a, b, c"
   ]
  },
  {
   "cell_type": "markdown",
   "metadata": {},
   "source": [
    "## Notation\n",
    "Instead of $ f(n) $ we will often see the index $ n $ as a subscript of the sequence $ f $: $ f_{n} $\n",
    "\n",
    "### Example\n",
    "$$\n",
    "f_{n} = n^3\n",
    "$$\n",
    "\n",
    "### Python\n",
    "Also in _Python_ programs brackets `[]` are used instead of parentheses `()`:"
   ]
  },
  {
   "cell_type": "code",
   "execution_count": null,
   "metadata": {},
   "outputs": [
    {
     "data": {
      "text/plain": [
       "343"
      ]
     },
     "execution_count": null,
     "metadata": {},
     "output_type": "execute_result"
    }
   ],
   "source": [
    "f = [n ** 3 for n in range(10)]\n",
    "f[7]"
   ]
  },
  {
   "cell_type": "markdown",
   "metadata": {},
   "source": [
    "Of course we can also define $ f $ as ordinary function:"
   ]
  },
  {
   "cell_type": "code",
   "execution_count": null,
   "metadata": {},
   "outputs": [
    {
     "data": {
      "text/plain": [
       "343"
      ]
     },
     "execution_count": null,
     "metadata": {},
     "output_type": "execute_result"
    }
   ],
   "source": [
    "def f(n):\n",
    "    return n ** 3\n",
    "f(7)"
   ]
  },
  {
   "cell_type": "markdown",
   "metadata": {},
   "source": [
    "Or alternatively using $ \\lambda $ notation:"
   ]
  },
  {
   "cell_type": "code",
   "execution_count": null,
   "metadata": {},
   "outputs": [
    {
     "data": {
      "text/plain": [
       "343"
      ]
     },
     "execution_count": null,
     "metadata": {},
     "output_type": "execute_result"
    }
   ],
   "source": [
    "f = lambda n: n ** 3\n",
    "f(7)"
   ]
  },
  {
   "cell_type": "markdown",
   "metadata": {},
   "source": [
    "## Candles on a Birthday Cake\n",
    "\n",
    "How old are you if you can arrange the candles on your birthday cake in both a square and an equilateral triangle?"
   ]
  },
  {
   "cell_type": "code",
   "execution_count": null,
   "metadata": {},
   "outputs": [
    {
     "name": "stdout",
     "output_type": "stream",
     "text": [
      "0\n",
      "1\n",
      "36\n",
      "1225\n",
      "41616\n",
      "1413721\n",
      "48024900\n",
      "1631432881\n",
      "55420693056\n",
      "1882672131025\n"
     ]
    }
   ],
   "source": [
    "m = n = 0\n",
    "dm = dn = 1\n",
    "for k in range(10000000):\n",
    "    if m == n:\n",
    "        print(m)\n",
    "    if m < n:\n",
    "        m += dm\n",
    "        dm += 2\n",
    "    else:\n",
    "        n += dn\n",
    "        dn += 1"
   ]
  },
  {
   "cell_type": "markdown",
   "metadata": {},
   "source": [
    "We can search with this result to find [numbers that are both triangular and square.](https://oeis.org/A001110)\n",
    "From here we can find a recursive formula to calculate the first couple of values:\n",
    "$$\n",
    "\\begin{matrix}\n",
    "a_{0} = 0 \\\\\n",
    "a_{1} = 1 \\\\\n",
    "\\end{matrix}\n",
    "$$\n",
    "For $ n \\geqslant 2 $:\n",
    "$$\n",
    "a_{n} = 34 * a_{n-1} - a_{n-2} + 2\n",
    "$$"
   ]
  },
  {
   "cell_type": "code",
   "execution_count": null,
   "metadata": {},
   "outputs": [
    {
     "name": "stdout",
     "output_type": "stream",
     "text": [
      "36\n",
      "1225\n",
      "41616\n",
      "1413721\n",
      "48024900\n",
      "1631432881\n",
      "55420693056\n",
      "1882672131025\n",
      "63955431761796\n",
      "2172602007770041\n",
      "73804512832419600\n",
      "2507180834294496361\n",
      "85170343853180456676\n",
      "2893284510173841030625\n",
      "98286503002057414584576\n",
      "3338847817559778254844961\n",
      "113422539294030403250144100\n",
      "3853027488179473932250054441\n",
      "130889512058808083293251706896\n",
      "4446390382511295358038307980025\n"
     ]
    }
   ],
   "source": [
    "a, b = 0, 1\n",
    "for k in range(20):\n",
    "    a, b = b, 34 * b - a + 2\n",
    "    print(b)"
   ]
  },
  {
   "cell_type": "markdown",
   "metadata": {},
   "source": [
    "Apparently this is much faster.\n",
    "\n",
    "## Operations\n",
    "\n",
    "Given two sequences $ f_{n} $ and $ g_{n} $ we can add, subtract or multiply them to create a new sequence:\n",
    "$$\n",
    "h_{n} = f_{n} + g_{n}\n",
    "$$\n",
    "\n",
    "However we can not divide sequences since the result may not be in $ \\mathbb{Z} $ anymore.\n",
    "\n",
    "### Constant Sequences\n",
    "\n",
    "We can consider constants like $ 34 $ or $ 2 $ constant sequences:\n",
    "$$\n",
    "f_{n} = c\n",
    "$$\n",
    "\n",
    "But in general we just use them as constants.\n",
    "\n",
    "### Transformations\n",
    "\n",
    "These operations allows to define a function $ f $ on the elements  $ a_{n} $ of a sequence $ a $:\n",
    "\n",
    "$$\n",
    "\\begin{matrix}\n",
    "f: \\mathbb{Z} \\rightarrow \\mathbb{Z} \\\\\n",
    "a_{n} \\mapsto f(a_{n})\n",
    "\\end{matrix}\n",
    "$$\n",
    "\n",
    "#### Example\n",
    "\n",
    "Let's start with the sequence of odd numbers:\n",
    "\n",
    "$$\n",
    "a_{n} = 2n + 1\n",
    "$$\n",
    "\n",
    "We can apply the square function $ f(x) = x^2 $ to this sequence to get:\n",
    "\n",
    "$$\n",
    "b_{n} = f(a_{n}) = f(2n + 1) = (2n + 1)^2 = 4n^2 + 4n + 1\n",
    "$$\n",
    "\n",
    "This gives us the list of odd square numbers:"
   ]
  },
  {
   "cell_type": "code",
   "execution_count": null,
   "metadata": {},
   "outputs": [
    {
     "data": {
      "text/plain": [
       "[1,\n",
       " 9,\n",
       " 25,\n",
       " 49,\n",
       " 81,\n",
       " 121,\n",
       " 169,\n",
       " 225,\n",
       " 289,\n",
       " 361,\n",
       " 441,\n",
       " 529,\n",
       " 625,\n",
       " 729,\n",
       " 841,\n",
       " 961,\n",
       " 1089,\n",
       " 1225,\n",
       " 1369,\n",
       " 1521]"
      ]
     },
     "execution_count": null,
     "metadata": {},
     "output_type": "execute_result"
    }
   ],
   "source": [
    "[4 * n ** 2 + 4 * n + 1 for n in range(20)]"
   ]
  },
  {
   "cell_type": "markdown",
   "metadata": {},
   "source": [
    "Of course we could use the definition of the function $ f(x) = x^2 $ instead:"
   ]
  },
  {
   "cell_type": "code",
   "execution_count": null,
   "metadata": {},
   "outputs": [
    {
     "data": {
      "text/plain": [
       "[1,\n",
       " 9,\n",
       " 25,\n",
       " 49,\n",
       " 81,\n",
       " 121,\n",
       " 169,\n",
       " 225,\n",
       " 289,\n",
       " 361,\n",
       " 441,\n",
       " 529,\n",
       " 625,\n",
       " 729,\n",
       " 841,\n",
       " 961,\n",
       " 1089,\n",
       " 1225,\n",
       " 1369,\n",
       " 1521]"
      ]
     },
     "execution_count": null,
     "metadata": {},
     "output_type": "execute_result"
    }
   ],
   "source": [
    "f = lambda x: x ** 2\n",
    "[f(2 * n + 1) for n in range(20)]"
   ]
  },
  {
   "cell_type": "markdown",
   "metadata": {},
   "source": [
    "We can lift a function $ f: \\mathbb{Z} \\rightarrow \\mathbb{Z} $ to a function that operates on sequences:\n",
    "\n",
    "$$\n",
    "\\begin{matrix}\n",
    "f: \\mathbb{Z}^{\\mathbb{N}} \\rightarrow \\mathbb{Z}^{\\mathbb{N}} \\\\\n",
    "a \\mapsto f(a)\n",
    "\\end{matrix}\n",
    "$$\n",
    "\n",
    "In mathematics this difference is often ignored.\n",
    "But in programming languages we have to consider the difference of types.\n",
    "Otherwise we get a type error:\n",
    "\n",
    "```python\n",
    "TypeError: unsupported operand type(s) for ** or pow(): 'list' and 'int'\n",
    "```\n",
    "\n",
    "In case of _Python_ we can use the `map` function to map $ f $ over all elements of the sequence $ a $.\n",
    "Since it returns a _generator_ we use `list` to get all the elements:"
   ]
  },
  {
   "cell_type": "code",
   "execution_count": null,
   "metadata": {},
   "outputs": [
    {
     "data": {
      "text/plain": [
       "[1,\n",
       " 9,\n",
       " 25,\n",
       " 49,\n",
       " 81,\n",
       " 121,\n",
       " 169,\n",
       " 225,\n",
       " 289,\n",
       " 361,\n",
       " 441,\n",
       " 529,\n",
       " 625,\n",
       " 729,\n",
       " 841,\n",
       " 961,\n",
       " 1089,\n",
       " 1225,\n",
       " 1369,\n",
       " 1521]"
      ]
     },
     "execution_count": null,
     "metadata": {},
     "output_type": "execute_result"
    }
   ],
   "source": [
    "f = lambda x: x ** 2\n",
    "a = [2 * n + 1 for n in range(20)]\n",
    "# f(a) <--- this doesn't work\n",
    "list(map(f, a))"
   ]
  },
  {
   "cell_type": "code",
   "execution_count": null,
   "metadata": {},
   "outputs": [],
   "source": []
  },
  {
   "cell_type": "markdown",
   "metadata": {},
   "source": [
    "## Recursion\n",
    "\n",
    "We can use previous elements of a sequence to define later elements.\n",
    "This is what we already used in the example above.\n",
    "\n",
    "![XKCD Functional Programming](img/xkcd-functional.png)\n",
    "\n",
    "In general we have to define the first elements and then provide a formula to calculate the next element based on some of the previous ones.\n",
    "\n",
    "### Factorial\n",
    "\n",
    "This function $ ! $ is the product of the number with all the previous numbers but $ 0 $.\n",
    "\n",
    "#### Example\n",
    "\n",
    "$$\n",
    "5! = 5 \\cdot 4 \\cdot 3 \\cdot 2 \\cdot 1\n",
    "$$\n",
    "\n",
    "\n",
    "#### Definition\n",
    "\n",
    "Here's the recursive defintion of the factorial:\n",
    "\n",
    "$$\n",
    "\\begin{matrix}\n",
    "f(0) =& 1 \\\\\n",
    "f(n) =& n \\cdot f(n-1)\n",
    "\\end{matrix}\n",
    "$$\n",
    "\n",
    "Alternatively we could write:\n",
    "\n",
    "$$\n",
    "\\begin{matrix}\n",
    "0! =& 1 \\\\\n",
    "n! =& n \\cdot (n-1)!\n",
    "\\end{matrix}\n",
    "$$"
   ]
  },
  {
   "cell_type": "code",
   "execution_count": null,
   "metadata": {},
   "outputs": [
    {
     "data": {
      "text/plain": [
       "3628800"
      ]
     },
     "execution_count": null,
     "metadata": {},
     "output_type": "execute_result"
    }
   ],
   "source": [
    "def factorial(n):\n",
    "    if n == 0:\n",
    "        return 1\n",
    "    return n * factorial(n - 1)\n",
    "\n",
    "factorial(10)"
   ]
  },
  {
   "cell_type": "markdown",
   "metadata": {},
   "source": [
    "### Fibonacci\n",
    "\n",
    "We can also start with two values $ 0 $ and $ 1 $ and add them to get the next value:\n",
    "\n",
    "$$\n",
    "\\begin{matrix}\n",
    "f(0) = & 0 \\\\\n",
    "f(1) = & 1 \\\\\n",
    "f(n) = & f(n-1) + f(n-2)\n",
    "\\end{matrix}\n",
    "$$\n",
    "\n",
    "Alternatively we could write:\n",
    "\n",
    "$$\n",
    "\\begin{matrix}\n",
    "f_{0} = & 0 \\\\\n",
    "f_{1} = & 1 \\\\\n",
    "f_{n} = & f_{n-1} + f_{n-2}\n",
    "\\end{matrix}\n",
    "$$"
   ]
  },
  {
   "cell_type": "code",
   "execution_count": null,
   "metadata": {},
   "outputs": [
    {
     "data": {
      "text/plain": [
       "55"
      ]
     },
     "execution_count": null,
     "metadata": {},
     "output_type": "execute_result"
    }
   ],
   "source": [
    "def fibonacci(n):\n",
    "    if n == 0:\n",
    "        return 0\n",
    "    if n == 1:\n",
    "        return 1\n",
    "    return fibonacci(n-1) + fibonacci(n-2)\n",
    "\n",
    "fibonacci(10)"
   ]
  },
  {
   "cell_type": "markdown",
   "metadata": {},
   "source": [
    "### Exercises\n",
    "#### (a)\n",
    "Calculate the first 20 factorials."
   ]
  },
  {
   "cell_type": "code",
   "execution_count": null,
   "metadata": {},
   "outputs": [],
   "source": []
  },
  {
   "cell_type": "markdown",
   "metadata": {},
   "source": [
    "#### (b)\n",
    "Calculate the first 20 elements of the fibonacci sequence."
   ]
  },
  {
   "cell_type": "code",
   "execution_count": null,
   "metadata": {},
   "outputs": [],
   "source": []
  },
  {
   "cell_type": "markdown",
   "metadata": {},
   "source": [
    "## Summary\n",
    "\n",
    "* An integer sequence is just a map of natural numbers to integers.\n",
    "* You may call it list, array, vector, stream or function.\n",
    "* We can add, subtract and multiply but in general not divide integer sequences.\n",
    "* They may be defined explicitely as a function of the index.\n",
    "* Or they may be defined recursively as a function of previous elements.\n",
    "* We can use [The On-Line Encyclopedia of Integer Sequences® (OEIS®)](https://oeis.org/).\n",
    "\n",
    "## References\n",
    "\n",
    "* [Set-theoretic definition of natural numbers](https://en.wikipedia.org/wiki/Set-theoretic_definition_of_natural_numbers)"
   ]
  }
 ],
 "metadata": {
  "kernelspec": {
   "display_name": "Python 3",
   "language": "python",
   "name": "python3"
  }
 },
 "nbformat": 4,
 "nbformat_minor": 2
}
